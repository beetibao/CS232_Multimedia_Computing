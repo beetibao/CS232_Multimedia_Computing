{
  "nbformat": 4,
  "nbformat_minor": 0,
  "metadata": {
    "colab": {
      "provenance": [],
      "toc_visible": true
    },
    "kernelspec": {
      "name": "python3",
      "display_name": "Python 3"
    },
    "language_info": {
      "name": "python"
    }
  },
  "cells": [
    {
      "cell_type": "markdown",
      "source": [
        "**Lab 2 : Text Similarity Measures**\n",
        "\n",
        "- **Sinh viên thực hiện:** Phạm Thiện Bảo \n",
        "- **MSSV:** 20521107\n",
        "- **Lớp:** CS232.N21.KHCL\n"
      ],
      "metadata": {
        "id": "a8pfRbf7WdGA"
      }
    },
    {
      "cell_type": "markdown",
      "source": [
        "# Jaccard"
      ],
      "metadata": {
        "id": "JHnV1FBtXual"
      }
    },
    {
      "cell_type": "code",
      "source": [
        "str1='xinchao'\n",
        "str2='xinchao'\n",
        "str3='xinloi'"
      ],
      "metadata": {
        "id": "NMUAhXnuXtzU"
      },
      "execution_count": 93,
      "outputs": []
    },
    {
      "cell_type": "code",
      "source": [
        "set1='114579065'\n",
        "set2='963640121'"
      ],
      "metadata": {
        "id": "VinZWdgWZxb3"
      },
      "execution_count": 94,
      "outputs": []
    },
    {
      "cell_type": "code",
      "source": [
        "def jaccard(str1,str2):\n",
        "  intersection = len(list(set(str1).intersection(str2))) #Tìm phần giao \n",
        "  union = (len(set(str1)) + len(set(str2))) - intersection #Tìm phần hợp\n",
        "  return float(intersection) / union\n",
        "  "
      ],
      "metadata": {
        "id": "o3u4oBb1YyrW"
      },
      "execution_count": 95,
      "outputs": []
    },
    {
      "cell_type": "code",
      "execution_count": 96,
      "metadata": {
        "id": "Pna5sTKnWacQ",
        "colab": {
          "base_uri": "https://localhost:8080/"
        },
        "outputId": "e11f29e3-572e-4ee8-9f2f-1daaa47afca7"
      },
      "outputs": [
        {
          "output_type": "stream",
          "name": "stdout",
          "text": [
            "Jaccard Similarity: 0.5555555555555556\n",
            "Jaccard Distance: 0.4444444444444444\n"
          ]
        }
      ],
      "source": [
        "print('Jaccard Similarity: '+ str(jaccard(set1,set2)))\n",
        "print('Jaccard Distance: '+ str(1-jaccard(set1,set2)))"
      ]
    },
    {
      "cell_type": "markdown",
      "source": [
        "# Hamming "
      ],
      "metadata": {
        "id": "XxvygY2nYJQF"
      }
    },
    {
      "cell_type": "code",
      "source": [
        "def hamming_distance(str1,str2):\n",
        "  if len(str1) != len(str2): # Kiểm tra xem 2 string có cùng độ dài\n",
        "        raise ValueError(\"Error\")\n",
        "  i = 0\n",
        "  count = 0\n",
        "  while(i < len(str1)): # So sánh tương đồng ở phần tử thứ i\n",
        "    if(str1[i] != str2[i]):\n",
        "      count += 1\n",
        "    i += 1\n",
        "  return count"
      ],
      "metadata": {
        "id": "amxWUFYRwhP-"
      },
      "execution_count": 97,
      "outputs": []
    },
    {
      "cell_type": "code",
      "source": [
        "print('Hamming Similarity: '+ str(1 - (hamming_distance(str1,str2)/len(str1))))\n",
        "print('Hamming Distance: '+ str(hamming_distance(str1,str2)))"
      ],
      "metadata": {
        "colab": {
          "base_uri": "https://localhost:8080/"
        },
        "id": "pS31VEG8ywkD",
        "outputId": "2712d168-4484-407f-dc60-6db3562eb1f8"
      },
      "execution_count": 98,
      "outputs": [
        {
          "output_type": "stream",
          "name": "stdout",
          "text": [
            "Hamming Similarity: 1.0\n",
            "Hamming Distance: 0\n"
          ]
        }
      ]
    },
    {
      "cell_type": "markdown",
      "source": [
        "# Levenshtein"
      ],
      "metadata": {
        "id": "Wubz4vxjYMVV"
      }
    },
    {
      "cell_type": "code",
      "source": [
        "def levenshtein_distance(str1, str2):\n",
        "    len1 = len(str1)\n",
        "    len2 = len(str2)\n",
        "    # Khởi tạo ma trận\n",
        "    distance = [[0] * (len2 + 1) for _ in range(len1 + 1)]\n",
        "    for i in range(len1 + 1):\n",
        "        distance[i][0] = i\n",
        "    for j in range(len2 + 1):\n",
        "        distance[0][j] = j\n",
        "        \n",
        "    # Điền giá trị vào ma trận\n",
        "    for i in range(1, len1 + 1):\n",
        "        for j in range(1, len2 + 1):\n",
        "            if str1[i - 1] == str2[j - 1]:\n",
        "                substitution_cost = 0\n",
        "            else:\n",
        "                substitution_cost = 1\n",
        "            distance[i][j] = min(distance[i - 1][j] + 1,    # xóa\n",
        "                                 distance[i][j - 1] + 1,  # chèn\n",
        "                                 distance[i - 1][j - 1] + substitution_cost)  # thay thế\n",
        "    return distance[len1][len2]"
      ],
      "metadata": {
        "id": "AmqPCgDd0LvG"
      },
      "execution_count": 99,
      "outputs": []
    },
    {
      "cell_type": "code",
      "source": [
        "print('Levenshtein Similarity: '+ str(1 - (levenshtein_distance(str1,str3)/max(len(str1), len(str3)))))\n",
        "print('Levenshtein Distance: '+ str(levenshtein_distance(str1,str3)))"
      ],
      "metadata": {
        "colab": {
          "base_uri": "https://localhost:8080/"
        },
        "id": "mL3yoCb0ANwr",
        "outputId": "f06fcbee-18a5-426d-9897-36889ae758a7"
      },
      "execution_count": 100,
      "outputs": [
        {
          "output_type": "stream",
          "name": "stdout",
          "text": [
            "Levenshtein Similarity: 0.4285714285714286\n",
            "Levenshtein Distance: 4\n"
          ]
        }
      ]
    },
    {
      "cell_type": "markdown",
      "source": [
        "# Cosine Similarity using Bag of Words"
      ],
      "metadata": {
        "id": "z7dJGrQQYUa3"
      }
    },
    {
      "cell_type": "code",
      "source": [
        "import math"
      ],
      "metadata": {
        "id": "phj89JEzQYrw"
      },
      "execution_count": 101,
      "outputs": []
    },
    {
      "cell_type": "code",
      "source": [
        "doc1=\"You are so beautiful\"\n",
        "doc2=\"You are so beautiful\"\n",
        "doc3=\"You are so ugly\"\n",
        "doc4= \"You are so beautiful You are beautiful\""
      ],
      "metadata": {
        "id": "5TmOYh3ooBu0"
      },
      "execution_count": 102,
      "outputs": []
    },
    {
      "cell_type": "code",
      "source": [
        "def cosine_similarity_bow(document1, document2):\n",
        "    document1_bow = compute_bow(document1)\n",
        "    document2_bow = compute_bow(document2)\n",
        "\n",
        "    terms = set(document1_bow.keys()) | set(document2_bow.keys())\n",
        "    dot_product = sum(document1_bow.get(term, 0) * document2_bow.get(term, 0) for term in terms)\n",
        "    magnitude_document1 = math.sqrt(sum(document1_bow.get(term, 0) ** 2 for term in terms))\n",
        "    magnitude_document2 = math.sqrt(sum(document2_bow.get(term, 0) ** 2 for term in terms))\n",
        "\n",
        "    cosine_similarity = dot_product / (magnitude_document1 * magnitude_document2)\n",
        "    return cosine_similarity"
      ],
      "metadata": {
        "id": "Al8fL6wiru5W"
      },
      "execution_count": 103,
      "outputs": []
    },
    {
      "cell_type": "code",
      "source": [
        "def compute_bow(document):\n",
        "    terms = document.split()\n",
        "    bow = {}\n",
        "    for term in terms:\n",
        "        if term in bow:\n",
        "            bow[term] += 1\n",
        "        else:\n",
        "            bow[term] = 1\n",
        "    return bow"
      ],
      "metadata": {
        "id": "O9N3AsMpZdVI"
      },
      "execution_count": 104,
      "outputs": []
    },
    {
      "cell_type": "code",
      "source": [
        "print('Cosine Similarity using Bag of Words between doc1 and doc2: '+ str(cosine_similarity_bow(doc1,doc2)))"
      ],
      "metadata": {
        "id": "p6VOUCccHhol",
        "outputId": "c48dc05f-a8b9-4e3f-b01e-96f78f5b579b",
        "colab": {
          "base_uri": "https://localhost:8080/"
        }
      },
      "execution_count": 105,
      "outputs": [
        {
          "output_type": "stream",
          "name": "stdout",
          "text": [
            "Cosine Similarity using Bag of Words: 1.0\n"
          ]
        }
      ]
    },
    {
      "cell_type": "code",
      "source": [
        "print('Cosine Similarity using Bag of Words between doc1 and doc3: '+ str(cosine_similarity_bow(doc1,doc3)))"
      ],
      "metadata": {
        "id": "B3wotlK0VoEn",
        "outputId": "51d6cb0b-175a-4e80-db3b-6db783a2dd51",
        "colab": {
          "base_uri": "https://localhost:8080/"
        }
      },
      "execution_count": 110,
      "outputs": [
        {
          "output_type": "stream",
          "name": "stdout",
          "text": [
            "Cosine Similarity using Bag of Words: 0.75\n"
          ]
        }
      ]
    },
    {
      "cell_type": "markdown",
      "source": [
        "# Cosine Similarity using TF-IDF"
      ],
      "metadata": {
        "id": "9K4OfwS8YbX6"
      }
    },
    {
      "cell_type": "code",
      "source": [
        "from collections import Counter"
      ],
      "metadata": {
        "id": "cKSX_GS8Uo65"
      },
      "execution_count": 106,
      "outputs": []
    },
    {
      "cell_type": "code",
      "source": [
        "def term_frequency(term, document):\n",
        "    term_count = Counter(document.split())\n",
        "    return term_count[term] / len(document.split())\n",
        "\n",
        "def inverse_document_frequency(term, corpus):\n",
        "    num_documents_with_term = sum([1 for doc in corpus if term in doc.lower().split()])\n",
        "    return math.log10(len(corpus) / (num_documents_with_term + 1))\n",
        "\n",
        "def tf_idf(term, document, corpus):\n",
        "    tf = term_frequency(term, document)\n",
        "    idf = inverse_document_frequency(term, corpus)\n",
        "    return tf * idf"
      ],
      "metadata": {
        "id": "n0cXP8SLVeK3"
      },
      "execution_count": 107,
      "outputs": []
    },
    {
      "cell_type": "code",
      "source": [
        "def cosine_similarity_tfidf(document1, document2):\n",
        "    unique_terms = set(document1.split() + document2.split())\n",
        "\n",
        "    # Tìm TF-IDF \n",
        "    tf_idf1 = [tf_idf(term, document1, [document1, document2]) for term in unique_terms]\n",
        "    tf_idf2 = [tf_idf(term, document2, [document1, document2]) for term in unique_terms]\n",
        "\n",
        "    # Tính tích vô hướng của các TF-IDF vectors\n",
        "    dot_product = sum(tf_idf1[i] * tf_idf2[i] for i in range(len(unique_terms)))\n",
        "\n",
        "    # Tính độ dài của các TF-IDF vectors\n",
        "    magnitude1 = math.sqrt(sum(tf_idf1[i] ** 2 for i in range(len(unique_terms))))\n",
        "    magnitude2 = math.sqrt(sum(tf_idf2[i] ** 2 for i in range(len(unique_terms))))\n",
        "\n",
        "    #Lập công thức cosine\n",
        "    cosine_similarity = dot_product / (magnitude1 * magnitude2)\n",
        "\n",
        "    return cosine_similarity\n"
      ],
      "metadata": {
        "id": "nurPNS2RULeI"
      },
      "execution_count": 108,
      "outputs": []
    },
    {
      "cell_type": "code",
      "source": [
        "print('Cosine Similarity using TF-IDF between doc1 and doc2: '+ str(cosine_similarity_tfidf(doc1, doc2)))"
      ],
      "metadata": {
        "id": "IN0IDgqJVWza",
        "outputId": "6a02ad50-6a39-4d71-ddd5-5147195a7d3c",
        "colab": {
          "base_uri": "https://localhost:8080/"
        }
      },
      "execution_count": 111,
      "outputs": [
        {
          "output_type": "stream",
          "name": "stdout",
          "text": [
            "Cosine Similarity using TF-IDF between doc1 and doc2: 1.0\n"
          ]
        }
      ]
    },
    {
      "cell_type": "code",
      "source": [
        "print('Cosine Similarity using TF-IDF between doc1 and doc4: '+ str(cosine_similarity_tfidf(doc1, doc4)))"
      ],
      "metadata": {
        "id": "gghDgm3LV7VX",
        "outputId": "f6b2229b-1c29-423f-c4c4-374643dfa979",
        "colab": {
          "base_uri": "https://localhost:8080/"
        }
      },
      "execution_count": 113,
      "outputs": [
        {
          "output_type": "stream",
          "name": "stdout",
          "text": [
            "Cosine Similarity using TF-IDF between doc1 and doc4: 0.9797080431149267\n"
          ]
        }
      ]
    }
  ]
}